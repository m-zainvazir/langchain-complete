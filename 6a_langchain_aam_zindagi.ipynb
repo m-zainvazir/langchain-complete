{
  "cells": [
    {
      "cell_type": "code",
      "execution_count": null,
      "metadata": {
        "id": "g2w84DVb-zZr"
      },
      "outputs": [],
      "source": [
        "import random\n",
        "\n",
        "class NakliLLM:\n",
        "\n",
        "  def __init__(self):\n",
        "    print('LLM created')\n",
        "\n",
        "  def predict(self, prompt):\n",
        "\n",
        "    response_list = [\n",
        "        'Delhi is the capital of India',\n",
        "        'IPL is a cricket league',\n",
        "        'AI stands for Artificial Intelligence'\n",
        "    ]\n",
        "\n",
        "    return {'response': random.choice(response_list)}"
      ]
    },
    {
      "cell_type": "code",
      "execution_count": 2,
      "metadata": {
        "id": "LSyL1BICA_GY"
      },
      "outputs": [],
      "source": [
        "class NakliPromptTemplate:\n",
        "\n",
        "  def __init__(self, template, input_variables):\n",
        "    self.template = template\n",
        "    self.input_variables = input_variables\n",
        "\n",
        "  def format(self, input_dict):\n",
        "    return self.template.format(**input_dict)"
      ]
    },
    {
      "cell_type": "code",
      "execution_count": 3,
      "metadata": {
        "id": "0R8IWZ2uBZxS"
      },
      "outputs": [],
      "source": [
        "template = NakliPromptTemplate(\n",
        "    template='Write a {length} poem about {topic}',\n",
        "    input_variables=['length', 'topic']\n",
        ")"
      ]
    },
    {
      "cell_type": "code",
      "execution_count": 4,
      "metadata": {
        "id": "DtyZLAZkBig6"
      },
      "outputs": [],
      "source": [
        "prompt = template.format({'length':'short','topic':'india'})"
      ]
    },
    {
      "cell_type": "code",
      "execution_count": 5,
      "metadata": {
        "colab": {
          "base_uri": "https://localhost:8080/"
        },
        "id": "KZ8JclUYBmxC",
        "outputId": "bba53e18-04b0-4475-a1d6-eafeb841fd9f"
      },
      "outputs": [
        {
          "name": "stdout",
          "output_type": "stream",
          "text": [
            "LLM created\n"
          ]
        }
      ],
      "source": [
        "llm = NakliLLM()"
      ]
    },
    {
      "cell_type": "code",
      "execution_count": 6,
      "metadata": {
        "colab": {
          "base_uri": "https://localhost:8080/"
        },
        "id": "hFCYQXUwB-be",
        "outputId": "de5dafc1-4be4-4a0f-d54d-84258a29d475"
      },
      "outputs": [
        {
          "data": {
            "text/plain": [
              "{'response': 'Delhi is the capital of India'}"
            ]
          },
          "execution_count": 6,
          "metadata": {},
          "output_type": "execute_result"
        }
      ],
      "source": [
        "llm.predict(prompt)"
      ]
    },
    {
      "cell_type": "code",
      "execution_count": 7,
      "metadata": {
        "id": "SGzmKwmDDOfe"
      },
      "outputs": [],
      "source": [
        "class NakliLLMChain:\n",
        "\n",
        "  def __init__(self, llm, prompt):\n",
        "    self.llm = llm\n",
        "    self.prompt = prompt\n",
        "\n",
        "  def run(self, input_dict):\n",
        "\n",
        "    final_prompt = self.prompt.format(input_dict)\n",
        "    result = self.llm.predict(final_prompt)\n",
        "\n",
        "    return result['response']\n"
      ]
    },
    {
      "cell_type": "code",
      "execution_count": 8,
      "metadata": {
        "id": "v2OAM5RLE0YS"
      },
      "outputs": [],
      "source": [
        "template = NakliPromptTemplate(\n",
        "    template='Write a {length} poem about {topic}',\n",
        "    input_variables=['length', 'topic']\n",
        ")"
      ]
    },
    {
      "cell_type": "code",
      "execution_count": 9,
      "metadata": {
        "colab": {
          "base_uri": "https://localhost:8080/"
        },
        "id": "uOSTUUlrE3l-",
        "outputId": "029cd280-a726-422f-a6e8-529c0da6ea12"
      },
      "outputs": [
        {
          "name": "stdout",
          "output_type": "stream",
          "text": [
            "LLM created\n"
          ]
        }
      ],
      "source": [
        "llm = NakliLLM()"
      ]
    },
    {
      "cell_type": "code",
      "execution_count": 12,
      "metadata": {
        "id": "RB_pfYqvE5mT"
      },
      "outputs": [],
      "source": [
        "chain = NakliLLMChain(llm, template)"
      ]
    },
    {
      "cell_type": "code",
      "execution_count": 13,
      "metadata": {
        "colab": {
          "base_uri": "https://localhost:8080/",
          "height": 36
        },
        "id": "hQWSSazwE9DX",
        "outputId": "e9c76dcf-4075-498f-d617-d440b5fc6fb5"
      },
      "outputs": [
        {
          "data": {
            "application/vnd.google.colaboratory.intrinsic+json": {
              "type": "string"
            },
            "text/plain": [
              "'Delhi is the capital of India'"
            ]
          },
          "execution_count": 13,
          "metadata": {},
          "output_type": "execute_result"
        }
      ],
      "source": [
        "chain.run({'length':'short', 'topic': 'india'})"
      ]
    },
    {
      "cell_type": "code",
      "execution_count": null,
      "metadata": {
        "id": "JIZ6WOlEFA_h"
      },
      "outputs": [],
      "source": []
    }
  ],
  "metadata": {
    "colab": {
      "provenance": []
    },
    "kernelspec": {
      "display_name": "langchain",
      "language": "python",
      "name": "python3"
    },
    "language_info": {
      "name": "python",
      "version": "3.13.5"
    }
  },
  "nbformat": 4,
  "nbformat_minor": 0
}
