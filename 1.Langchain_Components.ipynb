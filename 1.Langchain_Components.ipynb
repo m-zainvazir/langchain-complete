{
 "cells": [
  {
   "cell_type": "markdown",
   "id": "2811625b",
   "metadata": {},
   "source": [
    "### 1. Dynamic & Reusable Prompts"
   ]
  },
  {
   "cell_type": "code",
   "execution_count": null,
   "id": "620fc0a7",
   "metadata": {
    "vscode": {
     "languageId": "plaintext"
    }
   },
   "outputs": [],
   "source": [
    "from langchain_core.prompts import PromptTemplate\n",
    "\n",
    "prompt= PromptTemplate.from_template('Summarize {topic} in {emotion} tone')\n",
    "\n",
    "print(prompt.format(topic='Cricket', emotion='fun'))"
   ]
  },
  {
   "cell_type": "markdown",
   "id": "18167d05",
   "metadata": {},
   "source": [
    "### 2. Role Based Prompts"
   ]
  },
  {
   "cell_type": "code",
   "execution_count": null,
   "id": "01e7abbe",
   "metadata": {
    "vscode": {
     "languageId": "plaintext"
    }
   },
   "outputs": [],
   "source": [
    "# Define the ChatPromptTemplate using from_template\n",
    "\n",
    "chat_prompt ChatPromptTemplate.from_template([\n",
    "    (\"system\", \"Hi you are an experienced {profession}\"),\n",
    "    (\"user\", \"Tell me about {topic}\"),\n",
    "])\n",
    "\n",
    "#Format the prompt with the variable\n",
    "formatted_messages = chat_prompt.format_messages (profession=\"Doctor\", topic \"Viral Fever\")"
   ]
  },
  {
   "cell_type": "markdown",
   "id": "4bf496b4",
   "metadata": {},
   "source": [
    "### 3. Few Shot Prompting"
   ]
  },
  {
   "cell_type": "code",
   "execution_count": null,
   "id": "59949897",
   "metadata": {
    "vscode": {
     "languageId": "plaintext"
    }
   },
   "outputs": [],
   "source": [
    "examples = [\n",
    "{\"input\": \"I was charged twice for my subscription this month.\", \"output\": \"Billing Issue\"},\n",
    "{\"input\": \"The app crashes every time I try to log in.\", \"output\": \"Technical Problem\"},\n",
    "{\"input\": \"Can you explain how to upgrade my plan?\", \"output\": \"General Inquiry\"},\n",
    "{\"input\": \"I need a refund for a payment I didn't authorize.\", \"output\": \"Billing Issue\"},\n",
    "]"
   ]
  },
  {
   "cell_type": "code",
   "execution_count": null,
   "id": "411bd835",
   "metadata": {
    "vscode": {
     "languageId": "plaintext"
    }
   },
   "outputs": [],
   "source": [
    "#Step 2: Create an example template\n",
    "example_template =\n",
    "Ticket: (input)\n",
    "Category: (output)"
   ]
  },
  {
   "cell_type": "code",
   "execution_count": null,
   "id": "ea5f40d8",
   "metadata": {
    "vscode": {
     "languageId": "plaintext"
    }
   },
   "outputs": [],
   "source": [
    "#Step 3: Build the few-shot prompt template\n",
    "few_shot_prompt FewShotPromptTemplate(\n",
    "    examples-examples,\n",
    "    example_prompt=PromptTemplate(input_variables=[\"input\", \"output\"], template=example_template),\n",
    "    prefix=\"Classify the following customer support tickets into one of the categories: 'Billing\n",
    "    Issue', 'Technical Problem', or 'General Inquiry'.\\n\\n\",\n",
    "    suffix=\"\\nTicket: (user_input)\\nCategory:\",\n",
    "    input_variables=[\"user_input\"]\n",
    ")"
   ]
  },
  {
   "cell_type": "markdown",
   "id": "450ec919",
   "metadata": {},
   "source": []
  }
 ],
 "metadata": {
  "language_info": {
   "name": "python"
  }
 },
 "nbformat": 4,
 "nbformat_minor": 5
}
